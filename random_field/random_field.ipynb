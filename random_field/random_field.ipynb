{
 "cells": [
  {
   "cell_type": "code",
   "execution_count": 1,
   "id": "891694a3-4dd7-4e9d-bd70-31036127ba86",
   "metadata": {},
   "outputs": [],
   "source": [
    "from __future__ import print_function\n",
    "from fenics import *\n",
    "import numpy as np\n",
    "import matplotlib.pyplot as plt\n",
    "%matplotlib inline"
   ]
  },
  {
   "cell_type": "markdown",
   "id": "9e69adc6-e49d-479e-94ed-a9098e0d6fce",
   "metadata": {},
   "source": [
    "we think about the error of this function in finite element space.\n",
    "\\begin{equation*}\n",
    "    u(x,y) = \\sum_{j \\geq 1} \\frac{y_j}{j^\\alpha} sin(j\\pi x)\n",
    "\\end{equation*}\n",
    "where $x\\in[0,1] = D$, $y\\sim u(-1,1)$, $\\alpha >1/2$(for the convergence)"
   ]
  },
  {
   "cell_type": "markdown",
   "id": "8cf85391-4818-4f81-b0d2-d25221f7448f",
   "metadata": {},
   "source": [
    "For the computation, instead of infinite sum, we consider finite sum. Furthemore, we will project it into finite element space. That is,\n",
    "\\begin{equation*}\n",
    "u(x,y) \\approx \\sum_{j \\geq 1}^K \\frac{y_j}{j^\\alpha} sin(j\\pi x)  \\approx u_h(x,y) = \\sum_{i=1}^{N_h} v_i(y) \\phi_i(x) \n",
    "\\end{equation*}"
   ]
  },
  {
   "cell_type": "code",
   "execution_count": null,
   "id": "c922dd29-645a-49b9-a129-c281198f3de5",
   "metadata": {},
   "outputs": [],
   "source": [
    "\"\"\"\n",
    "Test problem is sum of infinite series.\n",
    "\n",
    "  u = np.sum(w_j/j^alpha*sin(j*pi*x))\n",
    "\"\"\""
   ]
  },
  {
   "cell_type": "markdown",
   "id": "a8f1a87a-5fc7-4496-ab48-b9dd40ab6c25",
   "metadata": {},
   "source": [
    "First, we will change mesh size h and estimate the error below by monte carlo simulation.\n",
    "\n",
    "\\begin{equation*}\n",
    "E[||\\sum_{j \\geq 1}^K \\frac{y_j}{j^\\alpha} sin(j\\pi x)  - u_h(x,y)||^2_V]\n",
    "\\end{equation*}"
   ]
  },
  {
   "cell_type": "code",
   "execution_count": 2,
   "id": "4b095750-0ed0-43e1-9422-db0e14e7c721",
   "metadata": {},
   "outputs": [],
   "source": [
    "#smootheness\n",
    "alpha = 0.3\n",
    "#order of summation\n",
    "K = 2\n",
    "#degree of polynomial\n",
    "p=1\n",
    "# The number of meshes\n",
    "M = 1000\n",
    "#length of interval\n",
    "h = 2/M\n",
    "# The number of sampling\n",
    "N = 100\n",
    "\n",
    "def error(r=p,M=M,N=N):\n",
    "    #random vector\n",
    "    # y = np.random.uniform(low=-1.0, high=1.0, size=(N,K))\n",
    "    y = np.random.uniform(low=-1.0, high=1.0, size=(K))\n",
    "    \n",
    "    mesh = IntervalMesh(M,-1,1)\n",
    "    \n",
    "    V = FunctionSpace(mesh,\"P\", r)\n",
    "    \n",
    "    u = Function(V)\n",
    "\n",
    "    \n",
    "    u_j_list=[]\n",
    "\n",
    "    str = \"y[0]/pow(1,alpha)*sin(1*pi*x[0])\"\n",
    "    for j in range(1,K):\n",
    "        str += f\"　+ y[{j}]/pow({j},alpha)*sin({j+1}*pi*x[0])\"\n",
    "\n",
    "    print(str)\n",
    "    expr = Expression(str, degree=r+3,y=Constant(y), alpha=alpha)\n",
    "\n",
    "    u_h = interpolate(expr, V)\n",
    "\n",
    "    err = errornorm(expr, u_h)\n",
    "    print(err)\n",
    "    \n",
    "    \n",
    "    # for i in range(N):\n",
    "    #     for j in range(1,K+1):\n",
    "    #         u_j.j = j\n",
    "    #         u_j.y_j = y[i][j-1]\n",
    "    #         u.vector()[:] += ( interpolate(u_j, V) ).vector()\n",
    "    # u.vector()[:] /= N\n",
    "        \n",
    "    # zero = Constant(0.0)\n",
    "    # zero = interpolate(zero,V)\n",
    "    # error_L2 = errornorm(u,zero, 'L2')\n",
    "    \n",
    "    # return error_L2 * error_L2\n",
    "\n",
    "    \n"
   ]
  },
  {
   "cell_type": "code",
   "execution_count": 3,
   "id": "c61804d2-628a-4d6b-88df-e1010ff5c3bb",
   "metadata": {},
   "outputs": [
    {
     "name": "stdout",
     "output_type": "stream",
     "text": [
      "y[0]/pow(1,alpha)*sin(1*pi*x[0])　+ y[1]/pow(1,alpha)*sin(2*pi*x[0])\n",
      "7.645526944496423e-06\n"
     ]
    }
   ],
   "source": [
    "error(r=1, M=1000)"
   ]
  },
  {
   "cell_type": "markdown",
   "id": "b5470d72-5b2c-4216-97e8-ad82735c068f",
   "metadata": {},
   "source": [
    "If we apply KL exapnsion to u_h,\n",
    "\n",
    "\\begin{equation*}\n",
    "u_h(x,y) \\approx u_N = \\sum_{n=1}^N \\sqrt{\\lambda_n} a_n(y) b_n(x)\n",
    "\\end{equation*}\n",
    "The error can be caluclated in a following way.\n",
    "\\begin{equation*}\n",
    "E[||u_h(x,y) - u_N||_{L2}^2 = \\sum_{n=N+1}^\\infty \\lambda_n\n",
    "\\end{equation*}\n",
    "$\\lambda_n$ is defined in a following eigen value problem.\n",
    "\\begin{equation*}\n",
    "\\int_0^1 c(x_1,x_2)b_n(x_2)dx_2 = \\lambda_n b_n(x_1)\n",
    "\\end{equation*}\n",
    "where $c(x_1,x_2)=E[(u_h(x_1,y)-E[u_h(x_1)])(u_h(x_2,y)-E[u_h(x_2)])]$.\n",
    "\n",
    "Tensor product $C_h = E[u_h(y) \\otimes u_h(y)] = \\sum _{i,j=1}^{N_h} E[v_i(y)v_j(y)]\\phi_i\\otimes\\phi_j$\\\n",
    "$\\langle b_m,C_h b_m \\rangle = \\lambda_m $\\\n",
    "Define components of matrix C as $C_{n,m} = \\langle \\phi_n, C_h \\phi_m \\rangle _{V_h} =  \\sum _{i,j=1}^{N_h} E[v_i(y)v_j(y)]\\langle \\phi_n, \\phi_i \\rangle _{V_h}\\langle \\phi_j, \\phi_m \\rangle _{V_h}$\\\n",
    "Then $C = E[(Mv(y)(Mv(y)^T] = ME[v(y)v(y)^T]M^T$\\\n",
    "We diagonize C and get $\\lambda$."
   ]
  },
  {
   "cell_type": "code",
   "execution_count": 33,
   "id": "e263ed4f-5136-4832-ba79-dc7543ab5eff",
   "metadata": {},
   "outputs": [],
   "source": [
    "def lambda_matrix(r=10,M=30,N=100):\n",
    "    #random vector\n",
    "    y = np.random.uniform(low=-1.0, high=1.0, size=(N,K))\n",
    "    \n",
    "    mesh = IntervalMesh(M,-1,1)\n",
    "    \n",
    "    V = FunctionSpace(mesh,\"P\", r)\n",
    "    \n",
    "    u = Function(V)\n",
    "\n",
    "    u_j = Expression(\"y_j /pow(j,alpha)*sin(j*pi*x[0])\",degree=r, y_j=0.0, j = 0.0,alpha = alpha )\n",
    "    \n",
    "    u_matrix=np.zeros(K,K)\n",
    "    for i in range(N):\n",
    "        for j in range(1,K+1):\n",
    "            u_j.j = j\n",
    "            u_j.y_j = y[i][j-1]\n",
    "            u.vector()[:] += ( interpolate(u_j, V) ).vector()\n",
    "        u_matrix += np.mutmull(np.array(u.vector()).reshape(K,1),np.array(u.vector()).reshape(1,K))\n",
    "    u.matrix /= N\n",
    "\n",
    "\n",
    "\n",
    "\n",
    "    \n",
    "   \n",
    "    \n",
    "    return u_matrix\n",
    "\n",
    "    \n"
   ]
  },
  {
   "cell_type": "code",
   "execution_count": 34,
   "id": "63bd3ecd-b556-4526-ad72-de88f640155b",
   "metadata": {},
   "outputs": [
    {
     "ename": "TypeError",
     "evalue": "Cannot interpret '11' as a data type",
     "output_type": "error",
     "traceback": [
      "\u001b[0;31m---------------------------------------------------------------------------\u001b[0m",
      "\u001b[0;31mTypeError\u001b[0m                                 Traceback (most recent call last)",
      "Cell \u001b[0;32mIn[34], line 1\u001b[0m\n\u001b[0;32m----> 1\u001b[0m lambda_matrix()\n",
      "Cell \u001b[0;32mIn[33], line 13\u001b[0m, in \u001b[0;36mlambda_matrix\u001b[0;34m(r, M, N)\u001b[0m\n\u001b[1;32m      9\u001b[0m u \u001b[38;5;241m=\u001b[39m Function(V)\n\u001b[1;32m     11\u001b[0m u_j \u001b[38;5;241m=\u001b[39m Expression(\u001b[38;5;124m\"\u001b[39m\u001b[38;5;124my_j /pow(j,alpha)*sin(j*pi*x[0])\u001b[39m\u001b[38;5;124m\"\u001b[39m,degree\u001b[38;5;241m=\u001b[39mr, y_j\u001b[38;5;241m=\u001b[39m\u001b[38;5;241m0.0\u001b[39m, j \u001b[38;5;241m=\u001b[39m \u001b[38;5;241m0.0\u001b[39m,alpha \u001b[38;5;241m=\u001b[39m alpha )\n\u001b[0;32m---> 13\u001b[0m u_matrix\u001b[38;5;241m=\u001b[39mnp\u001b[38;5;241m.\u001b[39mzeros(K,K)\n\u001b[1;32m     14\u001b[0m \u001b[38;5;28;01mfor\u001b[39;00m i \u001b[38;5;129;01min\u001b[39;00m \u001b[38;5;28mrange\u001b[39m(N):\n\u001b[1;32m     15\u001b[0m     \u001b[38;5;28;01mfor\u001b[39;00m j \u001b[38;5;129;01min\u001b[39;00m \u001b[38;5;28mrange\u001b[39m(\u001b[38;5;241m1\u001b[39m,K\u001b[38;5;241m+\u001b[39m\u001b[38;5;241m1\u001b[39m):\n",
      "\u001b[0;31mTypeError\u001b[0m: Cannot interpret '11' as a data type"
     ]
    }
   ],
   "source": [
    "lambda_matrix()"
   ]
  },
  {
   "cell_type": "code",
   "execution_count": null,
   "id": "0efa911c-3091-41b2-aee1-f616a1a19274",
   "metadata": {},
   "outputs": [],
   "source": []
  },
  {
   "cell_type": "code",
   "execution_count": null,
   "id": "c9d96cf3-87cc-470d-a3f1-ed76949b5c75",
   "metadata": {},
   "outputs": [],
   "source": []
  },
  {
   "cell_type": "code",
   "execution_count": null,
   "id": "f022856f-bc0d-46e6-b343-90859728caa4",
   "metadata": {},
   "outputs": [],
   "source": []
  },
  {
   "cell_type": "code",
   "execution_count": null,
   "id": "004b214b-0426-490b-8479-7c286319e080",
   "metadata": {},
   "outputs": [],
   "source": []
  },
  {
   "cell_type": "code",
   "execution_count": null,
   "id": "0bee3bb7-7a4d-4b2f-9087-5d8098c24c3c",
   "metadata": {},
   "outputs": [],
   "source": []
  },
  {
   "cell_type": "code",
   "execution_count": null,
   "id": "6f555626-bad7-4605-9e12-53bb5b576247",
   "metadata": {},
   "outputs": [],
   "source": []
  },
  {
   "cell_type": "code",
   "execution_count": null,
   "id": "9dfb6f18-6730-4100-8f72-b54a227dc40a",
   "metadata": {},
   "outputs": [],
   "source": []
  },
  {
   "cell_type": "code",
   "execution_count": null,
   "id": "477c28f9-2e49-498e-ba20-2ad65feb1998",
   "metadata": {},
   "outputs": [],
   "source": []
  },
  {
   "cell_type": "code",
   "execution_count": null,
   "id": "5c7e406d-9f7f-4f4d-bee0-269a48219598",
   "metadata": {},
   "outputs": [],
   "source": []
  },
  {
   "cell_type": "code",
   "execution_count": null,
   "id": "3d774225-6c60-4a2a-be76-b9fee5455479",
   "metadata": {},
   "outputs": [],
   "source": []
  },
  {
   "cell_type": "code",
   "execution_count": null,
   "id": "e0411e0a-b4c6-4282-a9ff-3f051c06339b",
   "metadata": {},
   "outputs": [],
   "source": []
  },
  {
   "cell_type": "code",
   "execution_count": null,
   "id": "a9c3aea9-6ee2-4930-9d10-a76428c67546",
   "metadata": {},
   "outputs": [],
   "source": []
  },
  {
   "cell_type": "code",
   "execution_count": null,
   "id": "d9cd7b57-4de4-4bce-907b-f8891b3f9ac2",
   "metadata": {},
   "outputs": [],
   "source": []
  },
  {
   "cell_type": "code",
   "execution_count": null,
   "id": "4d781b83-9fc2-401b-8c3b-c229c15cc12b",
   "metadata": {},
   "outputs": [],
   "source": []
  },
  {
   "cell_type": "code",
   "execution_count": null,
   "id": "7654465d-636e-4970-9b99-79dfd84d66a4",
   "metadata": {},
   "outputs": [],
   "source": []
  },
  {
   "cell_type": "markdown",
   "id": "6e8597b5-de1d-48da-b314-c97fb1fca27b",
   "metadata": {},
   "source": [
    "First, we will change mesh size h and estimate the error below by monte carlo simulation.\n",
    "\n",
    "\\begin{equation*}\n",
    "E[\\sum_{j \\geq 1}^K \\frac{y_j}{j^\\alpha} sin(j\\pi x)  - u_h(x,y)]\n",
    "\\end{equation*}"
   ]
  },
  {
   "cell_type": "code",
   "execution_count": 49,
   "id": "8cda20fb-a629-4233-b07c-1ac2c0063fb6",
   "metadata": {
    "scrolled": true
   },
   "outputs": [
    {
     "name": "stdout",
     "output_type": "stream",
     "text": [
      "*** Warning: Degree of exact solution may be inadequate for accurate result in errornorm.\n"
     ]
    },
    {
     "data": {
      "text/plain": [
       "43.09798486481928"
      ]
     },
     "execution_count": 49,
     "metadata": {},
     "output_type": "execute_result"
    }
   ],
   "source": [
    "error(R = 100,r=10,M = 10,N = 1)"
   ]
  },
  {
   "cell_type": "code",
   "execution_count": null,
   "id": "dcf4a56e-c160-4fa7-8976-72108dbc1d5a",
   "metadata": {},
   "outputs": [],
   "source": [
    "# changing the number of sample points"
   ]
  },
  {
   "cell_type": "code",
   "execution_count": 47,
   "id": "ce8d9fa6-4c94-4a51-888c-d58778322c2f",
   "metadata": {},
   "outputs": [
    {
     "name": "stdout",
     "output_type": "stream",
     "text": [
      "*** Warning: Degree of exact solution may be inadequate for accurate result in errornorm.\n",
      "*** Warning: Degree of exact solution may be inadequate for accurate result in errornorm.\n",
      "*** Warning: Degree of exact solution may be inadequate for accurate result in errornorm.\n",
      "*** Warning: Degree of exact solution may be inadequate for accurate result in errornorm.\n",
      "*** Warning: Degree of exact solution may be inadequate for accurate result in errornorm.\n",
      "*** Warning: Degree of exact solution may be inadequate for accurate result in errornorm.\n",
      "*** Warning: Degree of exact solution may be inadequate for accurate result in errornorm.\n",
      "*** Warning: Degree of exact solution may be inadequate for accurate result in errornorm.\n",
      "*** Warning: Degree of exact solution may be inadequate for accurate result in errornorm.\n",
      "*** Warning: Degree of exact solution may be inadequate for accurate result in errornorm.\n",
      "*** Warning: Degree of exact solution may be inadequate for accurate result in errornorm.\n",
      "*** Warning: Degree of exact solution may be inadequate for accurate result in errornorm.\n",
      "*** Warning: Degree of exact solution may be inadequate for accurate result in errornorm.\n",
      "*** Warning: Degree of exact solution may be inadequate for accurate result in errornorm.\n",
      "*** Warning: Degree of exact solution may be inadequate for accurate result in errornorm.\n",
      "*** Warning: Degree of exact solution may be inadequate for accurate result in errornorm.\n",
      "*** Warning: Degree of exact solution may be inadequate for accurate result in errornorm.\n",
      "*** Warning: Degree of exact solution may be inadequate for accurate result in errornorm.\n",
      "*** Warning: Degree of exact solution may be inadequate for accurate result in errornorm.\n",
      "*** Warning: Degree of exact solution may be inadequate for accurate result in errornorm.\n",
      "*** Warning: Degree of exact solution may be inadequate for accurate result in errornorm.\n",
      "*** Warning: Degree of exact solution may be inadequate for accurate result in errornorm.\n",
      "*** Warning: Degree of exact solution may be inadequate for accurate result in errornorm.\n",
      "*** Warning: Degree of exact solution may be inadequate for accurate result in errornorm.\n",
      "*** Warning: Degree of exact solution may be inadequate for accurate result in errornorm.\n",
      "*** Warning: Degree of exact solution may be inadequate for accurate result in errornorm.\n",
      "*** Warning: Degree of exact solution may be inadequate for accurate result in errornorm.\n",
      "*** Warning: Degree of exact solution may be inadequate for accurate result in errornorm.\n",
      "[32.4922218390757, 9.070630663851277, 5.336671533055653, 9.633146443795946, 15.473186082746341, 14.217527802526524, 8.749080103809213, 3.4905418148289176, 2.962043692718618, 1.6356423887297196, 3.930308624667528, 4.4665992642542856, 4.3203688606181725, 6.346718062214485, 0.6388696939489596, 1.6385048670929954, 3.23253593096731, 1.231208593448201, 2.4292246415529815, 3.33309593317752, 1.9458562562291066, 4.11076593603386, 2.3025023913484106, 4.679530960728032, 1.5678246485150307, 3.7785501537882156, 2.0128762705788974, 1.0868722727398037, 1.2211745127787397]*** Warning: Degree of exact solution may be inadequate for accurate result in errornorm.\n",
      "\n"
     ]
    },
    {
     "data": {
      "image/png": "[encoded data removed]",
      "text/plain": [
       "<Figure size 640x480 with 1 Axes>"
      ]
     },
     "metadata": {},
     "output_type": "display_data"
    }
   ],
   "source": [
    "N_list=[i for i in range(1,30)]\n",
    "N_decay=[1/i for i in range(1,30)]\n",
    "error_list=[error(R = 100,r=10,M = 10,N = i) for i in N_list]\n",
    "print(error_list)\n",
    "plt.loglog(N_list,N_decay)\n",
    "plt.loglog(N_list,error_list)\n",
    "plt.show()"
   ]
  },
  {
   "cell_type": "code",
   "execution_count": null,
   "id": "476217d3-d06b-48b4-93ff-febbb6d32720",
   "metadata": {},
   "outputs": [],
   "source": [
    "# changing the number of meshes"
   ]
  },
  {
   "cell_type": "code",
   "execution_count": 59,
   "id": "fe50c7b2-ab0c-43b9-96d1-b87ef1e2043d",
   "metadata": {
    "scrolled": true
   },
   "outputs": [
    {
     "name": "stdout",
     "output_type": "stream",
     "text": [
      "*** Warning: Degree of exact solution may be inadequate for accurate result in errornorm.\n",
      "*** Warning: Degree of exact solution may be inadequate for accurate result in errornorm.\n",
      "*** Warning: Degree of exact solution may be inadequate for accurate result in errornorm.\n",
      "*** Warning: Degree of exact solution may be inadequate for accurate result in errornorm.\n",
      "*** Warning: Degree of exact solution may be inadequate for accurate result in errornorm.\n",
      "*** Warning: Degree of exact solution may be inadequate for accurate result in errornorm.\n",
      "*** Warning: Degree of exact solution may be inadequate for accurate result in errornorm.\n",
      "*** Warning: Degree of exact solution may be inadequate for accurate result in errornorm.\n",
      "*** Warning: Degree of exact solution may be inadequate for accurate result in errornorm.\n",
      "*** Warning: Degree of exact solution may be inadequate for accurate result in errornorm.\n",
      "*** Warning: Degree of exact solution may be inadequate for accurate result in errornorm.\n",
      "*** Warning: Degree of exact solution may be inadequate for accurate result in errornorm.\n",
      "*** Warning: Degree of exact solution may be inadequate for accurate result in errornorm.\n",
      "*** Warning: Degree of exact solution may be inadequate for accurate result in errornorm.\n",
      "*** Warning: Degree of exact solution may be inadequate for accurate result in errornorm.\n",
      "*** Warning: Degree of exact solution may be inadequate for accurate result in errornorm.\n",
      "*** Warning: Degree of exact solution may be inadequate for accurate result in errornorm.\n",
      "*** Warning: Degree of exact solution may be inadequate for accurate result in errornorm.\n",
      "*** Warning: Degree of exact solution may be inadequate for accurate result in errornorm.\n",
      "*** Warning: Degree of exact solution may be inadequate for accurate result in errornorm.\n",
      "*** Warning: Degree of exact solution may be inadequate for accurate result in errornorm.\n",
      "*** Warning: Degree of exact solution may be inadequate for accurate result in errornorm.\n",
      "*** Warning: Degree of exact solution may be inadequate for accurate result in errornorm.\n",
      "*** Warning: Degree of exact solution may be inadequate for accurate result in errornorm.\n",
      "*** Warning: Degree of exact solution may be inadequate for accurate result in errornorm.\n",
      "*** Warning: Degree of exact solution may be inadequate for accurate result in errornorm.\n",
      "*** Warning: Degree of exact solution may be inadequate for accurate result in errornorm.\n",
      "*** Warning: Degree of exact solution may be inadequate for accurate result in errornorm.\n",
      "*** Warning: Degree of exact solution may be inadequate for accurate result in errornorm.\n",
      "[0.6019116807118041, 1.3263232848571556, 0.11623348736517942, 0.1371300357907945, 0.8451274837176119, 0.5128378318162574, 0.3870069600814365, 0.6105763697545296, 0.2797782692267329, 0.3736782323950353, 0.32413279795840877, 0.33707088213783887, 0.42627354275704243, 0.2721015479450644, 0.48372172379370243, 0.512360588106828, 0.40046969541967425, 0.542506270111543, 0.3927296201618307, 0.4527279822017833, 0.31796347142395426, 0.1613415697722876, 0.18084544170718395, 0.0939634929818495, 0.07376793048847576, 0.049040215254294285, 0.0760642701398937, 0.04771695855379573, 0.033050415958245344]\n"
     ]
    },
    {
     "data": {
      "image/png": "[encoded data removed]",
      "text/plain": [
       "<Figure size 640x480 with 1 Axes>"
      ]
     },
     "metadata": {},
     "output_type": "display_data"
    }
   ],
   "source": [
    "M_list=[i for i in range(1,30)]\n",
    "M_decay=[(1/i)**(r+1) for i in M_list]\n",
    "error_list=[error(R =100,r=10,M=i,N=100) for i in M_list]\n",
    "print(error_list)\n",
    "plt.loglog(M_list,M_decay)\n",
    "plt.loglog(M_list,error_list)\n",
    "plt.show()"
   ]
  },
  {
   "cell_type": "code",
   "execution_count": null,
   "id": "77ce31b3-51a2-4eff-917b-6dc2e96cd390",
   "metadata": {},
   "outputs": [],
   "source": [
    "# changing the order of truncation"
   ]
  },
  {
   "cell_type": "code",
   "execution_count": 58,
   "id": "69147620-b2f3-4a8a-baaf-2c66a48f60bc",
   "metadata": {},
   "outputs": [
    {
     "name": "stdout",
     "output_type": "stream",
     "text": [
      "*** Warning: Degree of exact solution may be inadequate for accurate result in errornorm.\n",
      "*** Warning: Degree of exact solution may be inadequate for accurate result in errornorm.\n",
      "*** Warning: Degree of exact solution may be inadequate for accurate result in errornorm.\n",
      "*** Warning: Degree of exact solution may be inadequate for accurate result in errornorm.\n",
      "*** Warning: Degree of exact solution may be inadequate for accurate result in errornorm.\n",
      "*** Warning: Degree of exact solution may be inadequate for accurate result in errornorm.\n",
      "*** Warning: Degree of exact solution may be inadequate for accurate result in errornorm.\n",
      "*** Warning: Degree of exact solution may be inadequate for accurate result in errornorm.\n",
      "*** Warning: Degree of exact solution may be inadequate for accurate result in errornorm.\n",
      "*** Warning: Degree of exact solution may be inadequate for accurate result in errornorm.\n",
      "*** Warning: Degree of exact solution may be inadequate for accurate result in errornorm.\n",
      "*** Warning: Degree of exact solution may be inadequate for accurate result in errornorm.\n",
      "*** Warning: Degree of exact solution may be inadequate for accurate result in errornorm.\n",
      "*** Warning: Degree of exact solution may be inadequate for accurate result in errornorm.\n",
      "*** Warning: Degree of exact solution may be inadequate for accurate result in errornorm.\n",
      "*** Warning: Degree of exact solution may be inadequate for accurate result in errornorm.\n",
      "*** Warning: Degree of exact solution may be inadequate for accurate result in errornorm.\n",
      "*** Warning: Degree of exact solution may be inadequate for accurate result in errornorm.\n",
      "*** Warning: Degree of exact solution may be inadequate for accurate result in errornorm.\n",
      "*** Warning: Degree of exact solution may be inadequate for accurate result in errornorm.\n",
      "*** Warning: Degree of exact solution may be inadequate for accurate result in errornorm.\n",
      "*** Warning: Degree of exact solution may be inadequate for accurate result in errornorm.\n",
      "*** Warning: Degree of exact solution may be inadequate for accurate result in errornorm.\n",
      "*** Warning: Degree of exact solution may be inadequate for accurate result in errornorm.\n",
      "*** Warning: Degree of exact solution may be inadequate for accurate result in errornorm.\n",
      "*** Warning: Degree of exact solution may be inadequate for accurate result in errornorm.\n",
      "*** Warning: Degree of exact solution may be inadequate for accurate result in errornorm.\n",
      "*** Warning: Degree of exact solution may be inadequate for accurate result in errornorm.\n",
      "*** Warning: Degree of exact solution may be inadequate for accurate result in errornorm.\n",
      "*** Warning: Degree of exact solution may be inadequate for accurate result in errornorm.\n",
      "*** Warning: Degree of exact solution may be inadequate for accurate result in errornorm.\n",
      "*** Warning: Degree of exact solution may be inadequate for accurate result in errornorm.\n",
      "*** Warning: Degree of exact solution may be inadequate for accurate result in errornorm.\n",
      "*** Warning: Degree of exact solution may be inadequate for accurate result in errornorm.\n",
      "*** Warning: Degree of exact solution may be inadequate for accurate result in errornorm.\n",
      "*** Warning: Degree of exact solution may be inadequate for accurate result in errornorm.\n",
      "*** Warning: Degree of exact solution may be inadequate for accurate result in errornorm.\n",
      "*** Warning: Degree of exact solution may be inadequate for accurate result in errornorm.\n",
      "*** Warning: Degree of exact solution may be inadequate for accurate result in errornorm.\n",
      "*** Warning: Degree of exact solution may be inadequate for accurate result in errornorm.\n",
      "*** Warning: Degree of exact solution may be inadequate for accurate result in errornorm.\n",
      "*** Warning: Degree of exact solution may be inadequate for accurate result in errornorm.\n",
      "*** Warning: Degree of exact solution may be inadequate for accurate result in errornorm.\n",
      "*** Warning: Degree of exact solution may be inadequate for accurate result in errornorm.\n",
      "*** Warning: Degree of exact solution may be inadequate for accurate result in errornorm.\n",
      "*** Warning: Degree of exact solution may be inadequate for accurate result in errornorm.\n",
      "*** Warning: Degree of exact solution may be inadequate for accurate result in errornorm.\n",
      "*** Warning: Degree of exact solution may be inadequate for accurate result in errornorm.\n",
      "*** Warning: Degree of exact solution may be inadequate for accurate result in errornorm.\n",
      "*** Warning: Degree of exact solution may be inadequate for accurate result in errornorm.\n",
      "*** Warning: Degree of exact solution may be inadequate for accurate result in errornorm.\n",
      "*** Warning: Degree of exact solution may be inadequate for accurate result in errornorm.\n",
      "*** Warning: Degree of exact solution may be inadequate for accurate result in errornorm.\n",
      "*** Warning: Degree of exact solution may be inadequate for accurate result in errornorm.\n",
      "*** Warning: Degree of exact solution may be inadequate for accurate result in errornorm.\n",
      "*** Warning: Degree of exact solution may be inadequate for accurate result in errornorm.\n",
      "*** Warning: Degree of exact solution may be inadequate for accurate result in errornorm.\n",
      "*** Warning: Degree of exact solution may be inadequate for accurate result in errornorm.\n",
      "*** Warning: Degree of exact solution may be inadequate for accurate result in errornorm.\n",
      "*** Warning: Degree of exact solution may be inadequate for accurate result in errornorm.\n",
      "*** Warning: Degree of exact solution may be inadequate for accurate result in errornorm.\n",
      "*** Warning: Degree of exact solution may be inadequate for accurate result in errornorm.\n",
      "*** Warning: Degree of exact solution may be inadequate for accurate result in errornorm.\n",
      "*** Warning: Degree of exact solution may be inadequate for accurate result in errornorm.\n",
      "*** Warning: Degree of exact solution may be inadequate for accurate result in errornorm.\n",
      "*** Warning: Degree of exact solution may be inadequate for accurate result in errornorm.\n",
      "*** Warning: Degree of exact solution may be inadequate for accurate result in errornorm.\n",
      "*** Warning: Degree of exact solution may be inadequate for accurate result in errornorm.\n",
      "*** Warning: Degree of exact solution may be inadequate for accurate result in errornorm.\n",
      "*** Warning: Degree of exact solution may be inadequate for accurate result in errornorm.\n",
      "*** Warning: Degree of exact solution may be inadequate for accurate result in errornorm.\n",
      "*** Warning: Degree of exact solution may be inadequate for accurate result in errornorm.\n",
      "*** Warning: Degree of exact solution may be inadequate for accurate result in errornorm.\n",
      "*** Warning: Degree of exact solution may be inadequate for accurate result in errornorm.\n",
      "*** Warning: Degree of exact solution may be inadequate for accurate result in errornorm.\n",
      "*** Warning: Degree of exact solution may be inadequate for accurate result in errornorm.\n",
      "*** Warning: Degree of exact solution may be inadequate for accurate result in errornorm.\n",
      "*** Warning: Degree of exact solution may be inadequate for accurate result in errornorm.\n",
      "*** Warning: Degree of exact solution may be inadequate for accurate result in errornorm.\n",
      "*** Warning: Degree of exact solution may be inadequate for accurate result in errornorm.\n",
      "*** Warning: Degree of exact solution may be inadequate for accurate result in errornorm.\n",
      "*** Warning: Degree of exact solution may be inadequate for accurate result in errornorm.\n",
      "*** Warning: Degree of exact solution may be inadequate for accurate result in errornorm.\n",
      "*** Warning: Degree of exact solution may be inadequate for accurate result in errornorm.\n",
      "*** Warning: Degree of exact solution may be inadequate for accurate result in errornorm.\n",
      "*** Warning: Degree of exact solution may be inadequate for accurate result in errornorm.\n",
      "*** Warning: Degree of exact solution may be inadequate for accurate result in errornorm.\n",
      "*** Warning: Degree of exact solution may be inadequate for accurate result in errornorm.\n",
      "*** Warning: Degree of exact solution may be inadequate for accurate result in errornorm.\n",
      "*** Warning: Degree of exact solution may be inadequate for accurate result in errornorm.\n",
      "*** Warning: Degree of exact solution may be inadequate for accurate result in errornorm.\n",
      "*** Warning: Degree of exact solution may be inadequate for accurate result in errornorm.\n",
      "*** Warning: Degree of exact solution may be inadequate for accurate result in errornorm.\n",
      "*** Warning: Degree of exact solution may be inadequate for accurate result in errornorm.\n",
      "*** Warning: Degree of exact solution may be inadequate for accurate result in errornorm.\n",
      "*** Warning: Degree of exact solution may be inadequate for accurate result in errornorm.\n",
      "*** Warning: Degree of exact solution may be inadequate for accurate result in errornorm.\n",
      "*** Warning: Degree of exact solution may be inadequate for accurate result in errornorm.\n",
      "[0.21859107760835172, 0.009589930525942373, 0.004697025814618091, 0.20440478084441566, 0.037216824583811814, 0.12156772611444457, 0.3145916934500358, 0.11097908469813922, 0.1684149033838014, 0.2235959501364852, 0.14011996805291768, 0.07958966333491538, 0.13692445747144144, 0.09603603173004469, 0.25646289380530707, 0.11857915763538385, 0.24478815232830425, 0.1532605783085535, 0.12526261717490528, 0.3001545327566307, 0.23617899073163087, 0.2798850291198408, 0.3460612977390328, 0.18146124410684372, 0.27896200130087, 0.22869982234641276, 0.31943438724417467, 0.3631172720941264, 0.23542684153465152, 0.17941667409263973, 0.2295305576991466, 0.24217430594305778, 0.49908868143071505, 0.22726292550555954, 0.18296447657694404, 0.37241802013207104, 0.4004009705847422, 0.47382542704930214, 0.9079800182668106, 0.8226574705853376, 0.7366741057806272, 0.8522027497904482, 0.9709989648678068, 0.6875656293723579, 1.5376152188607128, 1.6317451033794923, 1.5623529985517353, 2.518123051410842, 2.2535831368394255, 2.658428493325449, 5.892071648230268, 2.4827062866912692, 4.757224239992073, 2.3242192172210516, 8.523569987783613, 2.5854524219042503, 3.365744757375224, 5.155338503358224, 4.726074741786664, 1.6424963820364105, 7.031826719136312, 3.3865245300983227, 7.513780032525602, 4.918470608113468, 6.432162587350177, 2.8517356710111996, 7.521534891432117, 4.608653741339107, 5.314143690901172, 2.3878895807542206, 1.8140529644836236, 10.97943186588723, 1.130694128749095, 5.664525687777138, 8.18793757234781, 3.190669969453013, 0.9522268749701011, 3.8687688094474573, 4.345137678987431, 3.2127782473685635, 4.012358745933605, 2.997755615588277, 2.3055785249102216, 2.785290258859082, 4.269143508002864, 2.7943378815895534, 1.4208368042024413, 5.571999129797403, 3.2170762039982543, 5.591514961092217, 3.0401954837463325, 6.480497368610914, 2.8470284054286528, 3.103593545814518, 6.211098265400084, 3.305089389500721, 3.424503444466547, 2.97859514363496, 5.842409144479317]\n",
      "*** Warning: Degree of exact solution may be inadequate for accurate result in errornorm.\n"
     ]
    },
    {
     "data": {
      "image/png": "[encoded data removed]",
      "text/plain": [
       "<Figure size 640x480 with 1 Axes>"
      ]
     },
     "metadata": {},
     "output_type": "display_data"
    }
   ],
   "source": [
    "R_list=[i for i in range(1,100)]\n",
    "decay1=[1/i for i in R_list]\n",
    "decay2=[1/i**2 for i in R_list]\n",
    "decay3=[1/i**3 for i in R_list]\n",
    "error_list=[error(R = i,r=10,M = 10,N = 10) for i in R_list]\n",
    "print(error_list)\n",
    "plt.loglog(R_list,error_list)\n",
    "plt.loglog(R_list,decay1)\n",
    "plt.loglog(R_list,decay2)\n",
    "plt.loglog(R_list,decay3)\n",
    "plt.show()"
   ]
  },
  {
   "cell_type": "code",
   "execution_count": null,
   "id": "7389d72c-2521-464d-b81f-dfb8babf4a17",
   "metadata": {},
   "outputs": [],
   "source": []
  }
 ],
 "metadata": {
  "kernelspec": {
   "display_name": "fenixproject",
   "language": "python",
   "name": "fenixproject"
  },
  "language_info": {
   "codemirror_mode": {
    "name": "ipython",
    "version": 3
   },
   "file_extension": ".py",
   "mimetype": "text/x-python",
   "name": "python",
   "nbconvert_exporter": "python",
   "pygments_lexer": "ipython3",
   "version": "3.12.2"
  }
 },
 "nbformat": 4,
 "nbformat_minor": 5
}
